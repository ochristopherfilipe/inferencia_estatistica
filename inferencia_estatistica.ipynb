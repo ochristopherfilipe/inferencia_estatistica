{
 "cells": [
  {
   "cell_type": "markdown",
   "metadata": {},
   "source": [
    "# Inferência Estatística\n",
    "\n",
    "Verificando no dataset 'Pinguins' do seaborn a inferência estatística entre a massa corporal de machos e fêmeas."
   ]
  },
  {
   "cell_type": "code",
   "execution_count": 1,
   "metadata": {},
   "outputs": [],
   "source": [
    "# Importado as bibliotecas necessárias\n",
    "\n",
    "import pandas as pd\n",
    "import seaborn as sns\n",
    "import numpy as np\n",
    "import matplotlib.pyplot as plt\n",
    "import scipy.stats as st"
   ]
  },
  {
   "cell_type": "code",
   "execution_count": 2,
   "metadata": {},
   "outputs": [],
   "source": [
    "# Carregando o dataset\n",
    "\n",
    "pg = sns.load_dataset('penguins')"
   ]
  },
  {
   "cell_type": "code",
   "execution_count": 3,
   "metadata": {},
   "outputs": [
    {
     "data": {
      "text/plain": [
       "species               0\n",
       "island                0\n",
       "bill_length_mm        2\n",
       "bill_depth_mm         2\n",
       "flipper_length_mm     2\n",
       "body_mass_g           2\n",
       "sex                  11\n",
       "dtype: int64"
      ]
     },
     "execution_count": 3,
     "metadata": {},
     "output_type": "execute_result"
    }
   ],
   "source": [
    "# Verificando dados faltantes\n",
    "\n",
    "pg.isnull().sum()"
   ]
  },
  {
   "cell_type": "code",
   "execution_count": 4,
   "metadata": {},
   "outputs": [],
   "source": [
    "# Removendo dados faltantes\n",
    "\n",
    "pg = pg.dropna()"
   ]
  },
  {
   "cell_type": "code",
   "execution_count": 5,
   "metadata": {},
   "outputs": [
    {
     "data": {
      "text/html": [
       "<div>\n",
       "<style scoped>\n",
       "    .dataframe tbody tr th:only-of-type {\n",
       "        vertical-align: middle;\n",
       "    }\n",
       "\n",
       "    .dataframe tbody tr th {\n",
       "        vertical-align: top;\n",
       "    }\n",
       "\n",
       "    .dataframe thead th {\n",
       "        text-align: right;\n",
       "    }\n",
       "</style>\n",
       "<table border=\"1\" class=\"dataframe\">\n",
       "  <thead>\n",
       "    <tr style=\"text-align: right;\">\n",
       "      <th></th>\n",
       "      <th>count</th>\n",
       "      <th>mean</th>\n",
       "      <th>std</th>\n",
       "      <th>min</th>\n",
       "      <th>25%</th>\n",
       "      <th>50%</th>\n",
       "      <th>75%</th>\n",
       "      <th>max</th>\n",
       "    </tr>\n",
       "    <tr>\n",
       "      <th>sex</th>\n",
       "      <th></th>\n",
       "      <th></th>\n",
       "      <th></th>\n",
       "      <th></th>\n",
       "      <th></th>\n",
       "      <th></th>\n",
       "      <th></th>\n",
       "      <th></th>\n",
       "    </tr>\n",
       "  </thead>\n",
       "  <tbody>\n",
       "    <tr>\n",
       "      <th>Female</th>\n",
       "      <td>165.0</td>\n",
       "      <td>3862.272727</td>\n",
       "      <td>666.172050</td>\n",
       "      <td>2700.0</td>\n",
       "      <td>3350.0</td>\n",
       "      <td>3650.0</td>\n",
       "      <td>4550.0</td>\n",
       "      <td>5200.0</td>\n",
       "    </tr>\n",
       "    <tr>\n",
       "      <th>Male</th>\n",
       "      <td>168.0</td>\n",
       "      <td>4545.684524</td>\n",
       "      <td>787.628884</td>\n",
       "      <td>3250.0</td>\n",
       "      <td>3900.0</td>\n",
       "      <td>4300.0</td>\n",
       "      <td>5312.5</td>\n",
       "      <td>6300.0</td>\n",
       "    </tr>\n",
       "  </tbody>\n",
       "</table>\n",
       "</div>"
      ],
      "text/plain": [
       "        count         mean         std     min     25%     50%     75%     max\n",
       "sex                                                                           \n",
       "Female  165.0  3862.272727  666.172050  2700.0  3350.0  3650.0  4550.0  5200.0\n",
       "Male    168.0  4545.684524  787.628884  3250.0  3900.0  4300.0  5312.5  6300.0"
      ]
     },
     "execution_count": 5,
     "metadata": {},
     "output_type": "execute_result"
    }
   ],
   "source": [
    "# Fazendo um Groupby dos sexos\n",
    "\n",
    "pg.groupby('sex')['body_mass_g'].describe()"
   ]
  },
  {
   "cell_type": "code",
   "execution_count": 6,
   "metadata": {},
   "outputs": [
    {
     "data": {
      "text/plain": [
       "<Axes: xlabel='sex', ylabel='body_mass_g'>"
      ]
     },
     "execution_count": 6,
     "metadata": {},
     "output_type": "execute_result"
    },
    {
     "data": {
      "image/png": "[encoded data removed]",
      "text/plain": [
       "<Figure size 640x480 with 1 Axes>"
      ]
     },
     "metadata": {},
     "output_type": "display_data"
    }
   ],
   "source": [
    "# Visuzlizando a diferença de peso por sexo\n",
    "\n",
    "sns.pointplot(data=pg, x='sex', y = 'body_mass_g')"
   ]
  },
  {
   "cell_type": "markdown",
   "metadata": {},
   "source": [
    "## 1) Diferença de peso entre machos e fêmeas\n",
    "\n",
    "Na base de pinguins, podemos ver que há diferença de peso entre machos e fêmeas. Mas será que é uma conclusão extrapolável a toda a população de pinguins? Assumindo que essa amostra é aleatória e representativa da população de pinguins, realizamos um teste T com 5% de significância para verificar se podemos induzir esta conclusão para a população toda."
   ]
  },
  {
   "cell_type": "code",
   "execution_count": 7,
   "metadata": {},
   "outputs": [],
   "source": [
    "# Criando a separação de Grupo A e B na coluna Grupo\n",
    "\n",
    "pg['Grupo']= pg['sex'].map({'Male':'Grupo A', 'Female':'Grupo B'})\n"
   ]
  },
  {
   "cell_type": "code",
   "execution_count": 8,
   "metadata": {},
   "outputs": [
    {
     "name": "stdout",
     "output_type": "stream",
     "text": [
      "diferença: 683.41\n",
      "desvio padrão: 729.43\n",
      "erro padrão: 326.21\n",
      "estatística do teste: 2.09\n",
      "região crítica: 1.73 ou mais\n",
      "p-value: 0.02529 ou mais\n"
     ]
    }
   ],
   "source": [
    "# Calculando o desvio padrão da variável 'body_mass_g' para cada grupo 'sex' e, em seguida, calculando a média desses desvios padrão.\n",
    "desvpad = pg.groupby('Grupo')['body_mass_g'].var().mean()**.5\n",
    "\n",
    "# Calculando as médias da variável 'body_mass_g' para os grupos 'Grupo A' e 'Grupo B'.\n",
    "Média_A = pg.groupby('Grupo')['body_mass_g'].mean()['Grupo A']\n",
    "Média_B = pg.groupby('Grupo')['body_mass_g'].mean()['Grupo B']\n",
    "\n",
    "# Calculando a diferença entre as médias de 'Grupo A' e 'Grupo B'.\n",
    "diferença = Média_A - Média_B  # Numerador da fórmula\n",
    "\n",
    "# Calculando o erro padrão da diferença das médias usando a fórmula com uma correção para o tamanho da amostra.\n",
    "erro_padrao = desvpad * ((2/10)**.5)  # variância amostral*raiz(2/n)\n",
    "\n",
    "# Calculando a estatística do teste t.\n",
    "t = diferença / erro_padrao  # Estatística do teste\n",
    "\n",
    "# Calculando a região crítica usando a função st.t.ppf(), que corresponde ao valor crítico para um nível de significância de 0.05 (5%).\n",
    "RC = st.t.ppf(0.95, 18)  # Região crítica: sob h0, t está na RC 5% das vezes\n",
    "\n",
    "# Calculando o valor-p usando a função st.t.cdf().\n",
    "p_value = 1 - st.t.cdf(t, 18)  # p-value: a menor significância para a qual rejeitamos o teste\n",
    "\n",
    "# Imprimindo os resultados, incluindo a diferença das médias, o desvio padrão, o erro padrão, a estatística do teste t, a região crítica e o valor-p.\n",
    "print(f'diferença: {diferença:.2f}')\n",
    "print(f'desvio padrão: {desvpad:.2f}')\n",
    "print(f'erro padrão: {erro_padrao:.2f}')\n",
    "print(f'estatística do teste: {t:.2f}')\n",
    "print(f'região crítica: {RC:.2f} ou mais')\n",
    "print(f'p-value: {p_value:.5f} ou mais')\n"
   ]
  },
  {
   "cell_type": "markdown",
   "metadata": {},
   "source": []
  },
  {
   "cell_type": "markdown",
   "metadata": {},
   "source": [
    "## 2) Representação gráfica do teste\n",
    "\n",
    "Visualizando a estatística do teste, sua distribuição e a região crítica do teste."
   ]
  },
  {
   "cell_type": "code",
   "execution_count": 9,
   "metadata": {},
   "outputs": [
    {
     "data": {
      "image/png": "[encoded data removed]",
      "text/plain": [
       "<Figure size 1000x500 with 1 Axes>"
      ]
     },
     "metadata": {},
     "output_type": "display_data"
    },
    {
     "name": "stdout",
     "output_type": "stream",
     "text": [
      "A probabilidade de que os valores estejam entre 1,73 e inf é de 5,00%\n"
     ]
    }
   ],
   "source": [
    "# Parâmetros da densidade sob H0\n",
    "mu = 0\n",
    "variance = 1\n",
    "sigma = variance ** 0.5\n",
    "\n",
    "# Valores de X para plotar a densidade\n",
    "x = np.linspace(-3, 3, 1000) \n",
    "y = st.t.pdf(x, 18)\n",
    "\n",
    "# low = início da região crítica do teste\n",
    "low = st.t.ppf(0.95, 18)\n",
    "high = np.inf\n",
    "\n",
    "# Criação do gráfico de densidade da distribuição t\n",
    "fig, ax = plt.subplots(figsize=(10, 5))\n",
    "ax.plot(x, y, label='Distribuição t')\n",
    "\n",
    "# Linha de referência para a estatística do teste (t)\n",
    "ax.vlines(x=[t], ymin=0, ymax=max(y), colors='r', linestyles='dotted', label=f'Estatística do Teste (t): {t:.2f}')\n",
    "\n",
    "# Área sombreada para a região crítica\n",
    "plt.fill_between(x, y, where=(low < x) & (x < high), alpha=0.5, color='gray', label='Região Crítica')\n",
    "\n",
    "# Probabilidade de t pertencer à área\n",
    "prob_area = st.t.cdf(high, 18) - st.t.cdf(low, 18)\n",
    "ax.annotate(f'Probabilidade: {prob_area:.2%}', xy=(t, 0.01), xytext=(t - 1.5, 0.03),\n",
    "            arrowprops=dict(arrowstyle='->', color='black'))\n",
    "\n",
    "# Configurações do gráfico\n",
    "ax.set_xlabel('Valores de t')\n",
    "ax.set_ylabel('Densidade de Probabilidade')\n",
    "ax.set_title('Distribuição t e Teste de Hipóteses')\n",
    "ax.axhline(0, color='black', linewidth=0.5, linestyle='--')\n",
    "ax.legend()\n",
    "\n",
    "# Exibir o gráfico\n",
    "plt.show()\n",
    "\n",
    "print(f'A probabilidade de que os valores estejam entre {low:.2f} e {high:.2f} é de {prob_area:.2%}'.replace('.', ','))"
   ]
  },
  {
   "cell_type": "markdown",
   "metadata": {},
   "source": [
    "## 3) Considerando as espécies\n",
    "\n",
    "Uma vez para cada espécie de pinguim. Qual é o *p-value* associado a cada raça?"
   ]
  },
  {
   "cell_type": "code",
   "execution_count": 10,
   "metadata": {},
   "outputs": [
    {
     "name": "stdout",
     "output_type": "stream",
     "text": [
      "diferença: 674.66\n",
      "desvio padrão: 310.52\n",
      "erro padrão: 138.87\n",
      "estatística do teste: 4.86\n",
      "região crítica: 1.73 ou mais\n",
      "p-value: 0.00006 ou mais\n"
     ]
    }
   ],
   "source": [
    "desvpad = pg.loc[pg['species'] == 'Adelie'].groupby('sex')['body_mass_g'].var().mean()**.5\n",
    "Média_A = pg.loc[pg['species'] == 'Adelie'].groupby('sex')['body_mass_g'].mean()['Male']\n",
    "Média_B = pg.loc[pg['species'] == 'Adelie'].groupby('sex')['body_mass_g'].mean()['Female']\n",
    "\n",
    "diferença = Média_A - Média_B      # Numerador da fórmula\n",
    "erro_padrao = desvpad*((2/10)**.5) # variância amostral*raiz(2/n)\n",
    "t = diferença/erro_padrao          # Estatística do teste\n",
    "RC = st.t.ppf(.95, 18)             # Região crítica: sob h0, t está na RC 5% das vezes\n",
    "p_value=1-st.t.cdf(t, 18)          # p-value: a menor significância para a qual rejeitamos o teste\n",
    "\n",
    "print(f'diferença: {diferença:.2f}')\n",
    "print(f'desvio padrão: {desvpad:.2f}')\n",
    "print(f'erro padrão: {erro_padrao:.2f}')\n",
    "print(f'estatística do teste: {t:.2f}')\n",
    "print(f'região crítica: {RC:.2f} ou mais')\n",
    "print(f'p-value: {p_value:.5f} ou mais')\n",
    "\n",
    "p_value_adelie = p_value"
   ]
  },
  {
   "cell_type": "code",
   "execution_count": 11,
   "metadata": {},
   "outputs": [
    {
     "name": "stdout",
     "output_type": "stream",
     "text": [
      "diferença: 411.76\n",
      "desvio padrão: 326.01\n",
      "erro padrão: 145.79\n",
      "estatística do teste: 2.82\n",
      "região crítica: 1.73 ou mais\n",
      "p-value: 0.00562 ou mais\n"
     ]
    }
   ],
   "source": [
    "desvpad = pg.loc[pg['species'] == 'Chinstrap'].groupby('sex')['body_mass_g'].var().mean()**.5\n",
    "Média_A = pg.loc[pg['species'] == 'Chinstrap'].groupby('sex')['body_mass_g'].mean()['Male']\n",
    "Média_B = pg.loc[pg['species'] == 'Chinstrap'].groupby('sex')['body_mass_g'].mean()['Female']\n",
    "\n",
    "diferença = Média_A - Média_B      # Numerador da fórmula\n",
    "erro_padrao = desvpad*((2/10)**.5) # variância amostral*raiz(2/n)\n",
    "t = diferença/erro_padrao          # Estatística do teste\n",
    "RC = st.t.ppf(.95, 18)             # Região crítica: sob h0, t está na RC 5% das vezes\n",
    "p_value=1-st.t.cdf(t, 18)          # p-value: a menor significância para a qual rejeitamos o teste\n",
    "\n",
    "print(f'diferença: {diferença:.2f}')\n",
    "print(f'desvio padrão: {desvpad:.2f}')\n",
    "print(f'erro padrão: {erro_padrao:.2f}')\n",
    "print(f'estatística do teste: {t:.2f}')\n",
    "print(f'região crítica: {RC:.2f} ou mais')\n",
    "print(f'p-value: {p_value:.5f} ou mais')\n",
    "\n",
    "p_value_chinstrap = p_value"
   ]
  },
  {
   "cell_type": "code",
   "execution_count": 12,
   "metadata": {},
   "outputs": [
    {
     "name": "stdout",
     "output_type": "stream",
     "text": [
      "diferença: 805.09\n",
      "desvio padrão: 297.79\n",
      "erro padrão: 133.17\n",
      "estatística do teste: 6.05\n",
      "região crítica: 1.73 ou mais\n",
      "p-value: 0.00001 ou mais\n"
     ]
    }
   ],
   "source": [
    "desvpad = pg.loc[pg['species'] == 'Gentoo'].groupby('sex')['body_mass_g'].var().mean()**.5\n",
    "Média_A = pg.loc[pg['species'] == 'Gentoo'].groupby('sex')['body_mass_g'].mean()['Male']\n",
    "Média_B = pg.loc[pg['species'] == 'Gentoo'].groupby('sex')['body_mass_g'].mean()['Female']\n",
    "\n",
    "diferença = Média_A - Média_B      # Numerador da fórmula\n",
    "erro_padrao = desvpad*((2/10)**.5) # variância amostral*raiz(2/n)\n",
    "t = diferença/erro_padrao          # Estatística do teste\n",
    "RC = st.t.ppf(.95, 18)             # Região crítica: sob h0, t está na RC 5% das vezes\n",
    "p_value=1-st.t.cdf(t, 18)          # p-value: a menor significância para a qual rejeitamos o teste\n",
    "\n",
    "print(f'diferença: {diferença:.2f}')\n",
    "print(f'desvio padrão: {desvpad:.2f}')\n",
    "print(f'erro padrão: {erro_padrao:.2f}')\n",
    "print(f'estatística do teste: {t:.2f}')\n",
    "print(f'região crítica: {RC:.2f} ou mais')\n",
    "print(f'p-value: {p_value:.5f} ou mais')\n",
    "\n",
    "p_value_gentoo = p_value"
   ]
  },
  {
   "cell_type": "markdown",
   "metadata": {},
   "source": [
    "## P-Values de cada raça"
   ]
  },
  {
   "cell_type": "code",
   "execution_count": 13,
   "metadata": {},
   "outputs": [
    {
     "name": "stdout",
     "output_type": "stream",
     "text": [
      "p-value associado a raça Adelie: 0.00006\n",
      "p-value associado a raça Gentoo: 0.00001\n",
      "p-value associado a raça Chinstrap: 0.00562\n"
     ]
    }
   ],
   "source": [
    "print(f'p-value associado a raça Adelie: {p_value_adelie:.5f}')\n",
    "print(f'p-value associado a raça Gentoo: {p_value_gentoo:.5f}')\n",
    "print(f'p-value associado a raça Chinstrap: {p_value_chinstrap:.5f}')"
   ]
  }
 ],
 "metadata": {
  "kernelspec": {
   "display_name": "Python 3",
   "language": "python",
   "name": "python3"
  },
  "language_info": {
   "codemirror_mode": {
    "name": "ipython",
    "version": 3
   },
   "file_extension": ".py",
   "mimetype": "text/x-python",
   "name": "python",
   "nbconvert_exporter": "python",
   "pygments_lexer": "ipython3",
   "version": "3.11.4"
  },
  "toc": {
   "base_numbering": 1,
   "nav_menu": {},
   "number_sections": false,
   "sideBar": true,
   "skip_h1_title": true,
   "title_cell": "Índice",
   "title_sidebar": "Conteúdo",
   "toc_cell": false,
   "toc_position": {},
   "toc_section_display": true,
   "toc_window_display": false
  },
  "varInspector": {
   "cols": {
    "lenName": 16,
    "lenType": 16,
    "lenVar": 40
   },
   "kernels_config": {
    "python": {
     "delete_cmd_postfix": "",
     "delete_cmd_prefix": "del ",
     "library": "var_list.py",
     "varRefreshCmd": "print(var_dic_list())"
    },
    "r": {
     "delete_cmd_postfix": ") ",
     "delete_cmd_prefix": "rm(",
     "library": "var_list.r",
     "varRefreshCmd": "cat(var_dic_list()) "
    }
   },
   "types_to_exclude": [
    "module",
    "function",
    "builtin_function_or_method",
    "instance",
    "_Feature"
   ],
   "window_display": false
  }
 },
 "nbformat": 4,
 "nbformat_minor": 4
}
